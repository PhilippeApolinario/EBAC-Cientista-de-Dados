{
 "cells": [
  {
   "cell_type": "markdown",
   "id": "85529187",
   "metadata": {},
   "source": [
    "# Módulo 24 - Tarefa 01"
   ]
  },
  {
   "cell_type": "markdown",
   "id": "69a4473f",
   "metadata": {},
   "source": [
    "## 1. Cite 5 diferenças entre o Random Forest e o AdaBoost"
   ]
  },
  {
   "cell_type": "markdown",
   "id": "44e427d8",
   "metadata": {},
   "source": [
    "1. Algoritmos base: Random Forest e AdaBoost são algoritmos de aprendizado de conjunto, mas usam algoritmos base diferentes. Random Forest usa árvores de decisão como algoritmo base, enquanto o AdaBoost usa qualquer tipo de algoritmo de aprendizado de máquina como base.\n",
    "\n",
    "2. Abordagem de treinamento: Random Forest usa um processo de treinamento de bootstrap, onde várias amostras são retiradas do conjunto de dados de treinamento para cada árvore individual. O AdaBoost, por outro lado, usa um processo de treinamento iterativo, onde os exemplos mal classificados são ponderados mais fortemente a cada iteração.\n",
    "\n",
    "3. Tamanho do conjunto de árvores: Random Forest usa várias árvores independentes para fazer previsões, enquanto o AdaBoost usa uma única árvore, que é construída e atualizada em cada iteração.\n",
    "\n",
    "4. Sensibilidade a ruídos: Random Forest é menos sensível a ruídos e valores discrepantes nos dados de treinamento do que o AdaBoost. Isso ocorre porque o Random Forest usa a média de várias previsões de árvores independentes, o que reduz a influência de valores discrepantes individuais.\n",
    "\n",
    "5. Tolerância a sobreajuste: Random Forest tem uma tendência a sobreajustar menos do que o AdaBoost, especialmente em conjuntos de dados com muitas características. Isso ocorre porque a construção de várias árvores independentes reduz a probabilidade de que um conjunto específico de recursos seja superadaptado."
   ]
  },
  {
   "cell_type": "markdown",
   "id": "e98ad4b1",
   "metadata": {},
   "source": [
    "## 2. Acesse o link Scikit-learn – adaboost, leia a explicação (traduza se for preciso) e crie um jupyter notebook contendo o exemplo do AdaBoost."
   ]
  },
  {
   "cell_type": "code",
   "execution_count": 1,
   "id": "2331943e",
   "metadata": {},
   "outputs": [
    {
     "data": {
      "text/plain": [
       "0.9466666666666665"
      ]
     },
     "execution_count": 1,
     "metadata": {},
     "output_type": "execute_result"
    }
   ],
   "source": [
    "from sklearn.model_selection import cross_val_score\n",
    "from sklearn.datasets import load_iris\n",
    "from sklearn.ensemble import AdaBoostClassifier\n",
    "\n",
    "X, y = load_iris(return_X_y=True)\n",
    "clf = AdaBoostClassifier(n_estimators=100)\n",
    "scores = cross_val_score(clf, X, y, cv=5)\n",
    "scores.mean()"
   ]
  },
  {
   "cell_type": "markdown",
   "id": "13fcbbcf",
   "metadata": {},
   "source": [
    "## 3. Cite 5 Hyperparametros importantes no AdaBoost."
   ]
  },
  {
   "cell_type": "markdown",
   "id": "55db67da",
   "metadata": {},
   "source": [
    "1. n_estimators: Número de estimadores\n",
    "2. learning_rate: Peso atribuido a cada classificador em cada iteração do Boosting.\n",
    "3. base_estimator: Estimador que servirá de base para a construção do Ensemble. Por padrão, são árvores de decisão.\n",
    "4. max_depth: profundidade máxima de cada árvore de decisão. O padrão é 1.\n",
    "5. min_samples_split: mínimo de amostras em cada nó para fezer a divisão."
   ]
  },
  {
   "cell_type": "markdown",
   "id": "067ee1df",
   "metadata": {},
   "source": [
    "## 4. Utilize o GridSearch para encontrar os melhores hyperparametros para o conjunto de dados do exemplo (load_iris)"
   ]
  },
  {
   "cell_type": "code",
   "execution_count": 2,
   "id": "a0b44416",
   "metadata": {},
   "outputs": [
    {
     "data": {
      "text/plain": [
       "0.96"
      ]
     },
     "execution_count": 2,
     "metadata": {},
     "output_type": "execute_result"
    }
   ],
   "source": [
    "import numpy as np\n",
    "from sklearn.model_selection import GridSearchCV\n",
    "\n",
    "clf = AdaBoostClassifier()\n",
    "\n",
    "params = {\n",
    "    'n_estimators': np.arange(1, 202, 20),\n",
    "    'learning_rate': np.exp(np.arange(1, 20, 1))\n",
    "}\n",
    "\n",
    "grid = GridSearchCV(\n",
    "    estimator = clf,\n",
    "    param_grid = params,\n",
    "    scoring = 'accuracy',\n",
    "    cv = 5\n",
    ")\n",
    "\n",
    "grid.fit(X, y)\n",
    "\n",
    "grid.score(X, y)"
   ]
  }
 ],
 "metadata": {
  "kernelspec": {
   "display_name": "Python 3 (ipykernel)",
   "language": "python",
   "name": "python3"
  },
  "language_info": {
   "codemirror_mode": {
    "name": "ipython",
    "version": 3
   },
   "file_extension": ".py",
   "mimetype": "text/x-python",
   "name": "python",
   "nbconvert_exporter": "python",
   "pygments_lexer": "ipython3",
   "version": "3.9.13"
  }
 },
 "nbformat": 4,
 "nbformat_minor": 5
}
