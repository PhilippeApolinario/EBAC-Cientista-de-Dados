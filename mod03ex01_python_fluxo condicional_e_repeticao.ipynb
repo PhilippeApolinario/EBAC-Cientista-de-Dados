{
 "cells": [
  {
   "cell_type": "code",
   "execution_count": 27,
   "metadata": {},
   "outputs": [
    {
     "name": "stdout",
     "output_type": "stream",
     "text": [
      "Versão da Linguagem Python Usada Neste Jupyter Notebook: 3.9.7\n"
     ]
    }
   ],
   "source": [
    "# Versão da Linguagem Python\n",
    "from platform import python_version\n",
    "print('Versão da Linguagem Python Usada Neste Jupyter Notebook:', python_version())"
   ]
  },
  {
   "cell_type": "markdown",
   "metadata": {
    "id": "Zuq1OoAwrevO"
   },
   "source": [
    "### 01 - Teste de gravidez\n",
    "Escreva uma célula com controle de fluxos que tem como premissa a existência das seguintes variáveis:\n",
    "\n",
    "- ```sexo``` como ```str``` indicando os valores '**M**' para masculino e '**F**' para feminino  \n",
    "- ```beta_hcg``` que indica a quantidade do beta-HCG no sangue em mUI/mL.\n",
    "\n",
    "A sua tarefa é escrever um código que imprima como resultado \"indivíduo do sexo masculino\" quando sexo = 'M', caso sexo = 'F', se o valor de beta-HCG for maior que 5, retorne \"Positivo\" indicando que a paciente está grávida, e retorne \"Negativo\" caso contrário.\n",
    "\n",
    "Não mexa nos valores da variável ```sexo``` nem em ```beta_hcg```, e escreva um código que funcione para quaisquer valores possíveis de ambos: ```sexo``` = '**M**' ou '**F**' e ```beta_hcg``` assumindo valores inteiros positivos."
   ]
  },
  {
   "cell_type": "code",
   "execution_count": 28,
   "metadata": {
    "id": "AOfBiSgNrevv"
   },
   "outputs": [],
   "source": [
    "#Definindo variáveis\n",
    "\n",
    "sexo = 'M'\n",
    "beta_hcg = 0"
   ]
  },
  {
   "cell_type": "code",
   "execution_count": 29,
   "metadata": {
    "colab": {
     "base_uri": "https://localhost:8080/"
    },
    "id": "m29tUUO_r8x5",
    "outputId": "0d04966e-1c94-47d9-9e3a-206198725016"
   },
   "outputs": [
    {
     "name": "stdout",
     "output_type": "stream",
     "text": [
      "Digite M para sexo masculino e F para sexo Feminino:F\n",
      "Digite o valor do beta-HCG:3\n",
      "Negativo. A paciente não está gravida\n"
     ]
    }
   ],
   "source": [
    "#Controle de fluxo com if,elif e else\n",
    "\n",
    "sexo = input('Digite M para sexo masculino e F para sexo Feminino:')\n",
    "beta_hcg = str(input('Digite o valor do beta-HCG:'))\n",
    "\n",
    "if sexo == 'M':\n",
    "  print('indivíduo do sexo masculino')\n",
    "elif sexo == 'F' and beta_hcg > '5':\n",
    "    print('Positivo. A paciente está grávida')\n",
    "else:\n",
    "  print('Negativo. A paciente não está gravida')"
   ]
  },
  {
   "cell_type": "markdown",
   "metadata": {
    "id": "ACUhl6e1rev7"
   },
   "source": [
    "### 02 - Renomeando variáveis\n",
    "\n",
    "Vamos ver adiante que uma forma de renomear variáveis de um conjunto de dados é através de dicionários - o dicionário deve conter como chave o nome original, associando a cada chave um único valor (tipo *str*) que contenha o nome novo.\n",
    "\n",
    "A sua tarefa é escrever um dicionário que possa ser utilizado para traduzir as variáveis ```name``` (nome), ```age``` (idade) e ```income``` (renda). Ou seja, esse dicionário deve relacionar as chaves *name, age* e *income* às suas respectivas traduções."
   ]
  },
  {
   "cell_type": "code",
   "execution_count": 31,
   "metadata": {
    "id": "B2M0d3plweR7"
   },
   "outputs": [],
   "source": [
    "dic_renomeacao = {\n",
    "    'name' : 'nome',\n",
    "    'age' : 'idade',\n",
    "    'income' : 'renda'\n",
    "    }    "
   ]
  },
  {
   "cell_type": "markdown",
   "metadata": {
    "id": "i9SE8Ik5rewK"
   },
   "source": [
    "### 03 - É divisível?\n",
    "A sua tarefa é escrever um código que indique se um número ```N``` é divisível por um número P. Escreva um programa que faça essa verificação para quaisquer combinações de ```N``` e ```M``` e devolva uma mensagem indicativa no output."
   ]
  },
  {
   "cell_type": "code",
   "execution_count": 32,
   "metadata": {
    "colab": {
     "base_uri": "https://localhost:8080/"
    },
    "id": "8CK6AgUox8Jj",
    "outputId": "8c52a77d-a639-4aff-b4d9-37418141761e"
   },
   "outputs": [
    {
     "name": "stdout",
     "output_type": "stream",
     "text": [
      "42 é divisível por 7\n",
      "6.0\n"
     ]
    }
   ],
   "source": [
    "N = 42\n",
    "M = 7\n",
    "\n",
    "# Atribuindo condições\n",
    "if N%M ==0:\n",
    "  print(f'{N} é divisível por {M}')\n",
    "  print(N/M)\n",
    "else:\n",
    "   print(f'{N} não é divisível por {M}')"
   ]
  },
  {
   "cell_type": "markdown",
   "metadata": {
    "id": "LurVg7eMrewT"
   },
   "source": [
    "### 04 - Números primos\n",
    "> Um número **N** é primo se e somente se é divisível por 1, -1, por **N** e por -**N**.  \n",
    "\n",
    "Escreva um script que verifica se ```N``` é um número primo, verificando se ```N``` é divisível por todos os números de ```1``` a ```N-1```. Você vai precisar usar alguma ferramenta de *loop* que você aprendeu para isto. No final, devolva uma mensagem no output indicando se o número é primo ou não."
   ]
  },
  {
   "cell_type": "code",
   "execution_count": 33,
   "metadata": {
    "colab": {
     "base_uri": "https://localhost:8080/"
    },
    "id": "FQ_nE1ZUrewb",
    "outputId": "a989474e-1bc3-4512-a1d3-a49e8fb15ee0"
   },
   "outputs": [
    {
     "name": "stdout",
     "output_type": "stream",
     "text": [
      "É primo\n"
     ]
    }
   ],
   "source": [
    "N = 47\n",
    "contador = 0\n",
    "\n",
    "# Aplicando estrutura de repetição e atribuindo condições\n",
    "for i in range(1, N + 1):\n",
    "   if N % i == 0:\n",
    "     contador += 1\n",
    "\n",
    "if contador == 2:\n",
    "  print('É primo')\n",
    "else:\n",
    "  print('Não é primo')"
   ]
  },
  {
   "cell_type": "markdown",
   "metadata": {
    "id": "0Usq3nXlrewi"
   },
   "source": [
    "### 05 - Desafio\n",
    "O algorítmo do exercício anterior não é o mais eficiente. O que você pode fazer para deixá-lo mais eficiente? Ou seja, executar menos comparações, portanto consumir menos tempo.\n",
    "1. Será que precisamos correr o loop até o final sempre?\n",
    "2. Será que precisamos mesmo verificar **todos** os números?\n",
    "3. Será que precisamos ir até N-1?\n",
    "\n",
    "Essas perguntas levam ao tipo de pensamento voltado a deixar um algoritmo mais eficiente. Veja se você consegue melhorar o seu."
   ]
  },
  {
   "cell_type": "code",
   "execution_count": 34,
   "metadata": {
    "colab": {
     "base_uri": "https://localhost:8080/"
    },
    "id": "zQjA30kIrewq",
    "outputId": "0fa60d89-2a38-420c-f84d-ff2991928bca"
   },
   "outputs": [
    {
     "name": "stdout",
     "output_type": "stream",
     "text": [
      "Não é primo\n"
     ]
    }
   ],
   "source": [
    "N = 98\n",
    "primo = True\n",
    "\n",
    "# Aplicando estrutura de repetição e atribuindo condições\n",
    "for i in range(2, N):\n",
    "  if N % i == 0:\n",
    "    primo = False\n",
    "    break\n",
    "     \n",
    "if primo:\n",
    "  print('É primo')\n",
    "else:\n",
    "  print('Não é primo')"
   ]
  },
  {
   "cell_type": "markdown",
   "metadata": {
    "id": "sMZIhjWFreww"
   },
   "source": [
    "### 06 - Peso ideal 1\n",
    "O IMC (índice de massa corpórea) é um indicador de saúde mais bem aceito que o peso. Ele é calculado como:\n",
    "\n",
    "$$ IMC = \\dfrac{peso}{altura^2}$$\n",
    "\n",
    "Segundo a OMS, valores *normais* são entre 18.5 e 24.9.\n",
    "\n",
    "Sua tarefa é encontrar o ponto médio dessa faixa."
   ]
  },
  {
   "cell_type": "code",
   "execution_count": 35,
   "metadata": {
    "colab": {
     "base_uri": "https://localhost:8080/"
    },
    "id": "VDL6BXLVkCS2",
    "outputId": "b8b7b8d0-30b9-464e-97b7-a74e293e8a37"
   },
   "outputs": [
    {
     "name": "stdout",
     "output_type": "stream",
     "text": [
      "21.7\n"
     ]
    }
   ],
   "source": [
    "imc_ideal = (18.5 + 24.9) / 2\n",
    "print(imc_ideal)"
   ]
  },
  {
   "cell_type": "markdown",
   "metadata": {
    "id": "sglGlNB0rew3"
   },
   "source": [
    "### 07 - Peso ideal 2\n",
    "Recebendo um valor de altura, encontre o peso '*ideal*' dessa pessoa, que fornece o IMC encontrado acima"
   ]
  },
  {
   "cell_type": "code",
   "execution_count": 36,
   "metadata": {
    "colab": {
     "base_uri": "https://localhost:8080/"
    },
    "id": "lRczTG8NpvNp",
    "outputId": "42b97673-137c-4b1a-a247-ea6cf8c7a993"
   },
   "outputs": [
    {
     "name": "stdout",
     "output_type": "stream",
     "text": [
      "62.713\n"
     ]
    }
   ],
   "source": [
    "altura = 1.70\n",
    "\n",
    "peso_ideal = round(imc_ideal * (altura**2),3)\n",
    "print(peso_ideal)"
   ]
  },
  {
   "cell_type": "markdown",
   "metadata": {
    "id": "SBFVCdY5rew-"
   },
   "source": [
    "### 08 - Peso ideal 3\n",
    "Dada uma lista contendo as alturas de pacientes, crie uma nova lista que contenha o peso '*ideal*' (que fornece o IMC calculado em **Peso ideal 1**) desses pacientes."
   ]
  },
  {
   "cell_type": "code",
   "execution_count": 37,
   "metadata": {
    "colab": {
     "base_uri": "https://localhost:8080/"
    },
    "id": "KnsOqs_mtHlT",
    "outputId": "f12fec2a-5f54-482c-8636-4d762da05a8f"
   },
   "outputs": [
    {
     "data": {
      "text/plain": [
       "[[82.514, 91.194, 62.713, 59.078]]"
      ]
     },
     "execution_count": 37,
     "metadata": {},
     "output_type": "execute_result"
    }
   ],
   "source": [
    "lista_alturas = [1.95, 2.05, 1.70, 1.65]\n",
    "\n",
    "lista_peso_ideal = []\n",
    "\n",
    "# Percorrendo a lista e acrescentando o resultado na variável lista_peso_ideal\n",
    "peso = list(map(lambda x: round(x**2 * imc_ideal, 3), lista_alturas))\n",
    "lista_peso_ideal.append(peso)\n",
    "\n",
    "lista_peso_ideal"
   ]
  },
  {
   "cell_type": "markdown",
   "metadata": {
    "id": "0KpSCIJGrexG"
   },
   "source": [
    "### 09 - Peso ideal 4\n",
    "Dada uma lista de tuplas - cada elemento da lista é uma tupla contendo altura e peso de um paciente - crie uma nova lista com o IMC desses pacientes."
   ]
  },
  {
   "cell_type": "code",
   "execution_count": 24,
   "metadata": {
    "colab": {
     "base_uri": "https://localhost:8080/"
    },
    "id": "g-yqrBdr2StN",
    "outputId": "ba4a42ad-13ba-4206-9be4-5e715e4a07f3"
   },
   "outputs": [
    {
     "name": "stdout",
     "output_type": "stream",
     "text": [
      "[27.78, 27.55, 19.19]\n"
     ]
    }
   ],
   "source": [
    "altura_peso = [(1.80, 90), (1.65, 75), (1.91, 70)]\n",
    "\n",
    "imc = []\n",
    "\n",
    "# Percorrendo a lista e acrescentando o resultado na variável imc\n",
    "for i in altura_peso:\n",
    "    conta = round(i[1] / (i[0]**2),2)\n",
    "    imc.append(conta)\n",
    "print(imc)"
   ]
  },
  {
   "cell_type": "markdown",
   "metadata": {
    "id": "sCnAfn0ArexN"
   },
   "source": [
    "### 10 - Peso ideal 5\n",
    "Dada uma lista de **listas** - cada elemento da lista é uma **lista** contendo altura e peso de um paciente, adicione mais um elemento à lista de cada paciente contendo o IMC do paciente. Verifique também se é 'baixo', 'normal' ou 'alto' segundo os padrões da OMS em que normal é entre 18.5 e 24.9.\n",
    "\n",
    "Reflexão: por que no problema anterior temos que criar uma nova lista, e não podemos adicionar os dados de cada indivíduo à tupla?"
   ]
  },
  {
   "cell_type": "code",
   "execution_count": 26,
   "metadata": {
    "colab": {
     "base_uri": "https://localhost:8080/"
    },
    "id": "bGK6e3VtrexS",
    "outputId": "749963df-a3e8-400f-8848-32e849c85912"
   },
   "outputs": [
    {
     "data": {
      "text/plain": [
       "[[1.8, 90], [1.65, 75], [1.91, 70]]"
      ]
     },
     "execution_count": 26,
     "metadata": {},
     "output_type": "execute_result"
    }
   ],
   "source": [
    "altura_peso = [[1.80, 90], [1.65, 75], [1.91, 70]]\n",
    "altura_peso"
   ]
  },
  {
   "cell_type": "code",
   "execution_count": 38,
   "metadata": {
    "colab": {
     "base_uri": "https://localhost:8080/"
    },
    "id": "5KXktX7269Gb",
    "outputId": "e4b92700-a701-4ec6-a9c7-ec8526956bf8"
   },
   "outputs": [
    {
     "name": "stdout",
     "output_type": "stream",
     "text": [
      "[1.8, 90, 27.777777777777775, 'alto']\n",
      "[1.65, 75, 27.548209366391188, 'alto']\n",
      "[1.91, 70, 19.188070502453332, 'normal']\n"
     ]
    }
   ],
   "source": [
    "pessoa = []\n",
    "\n",
    "# Percorrendo a lista altura_peso e atribuindo condições\n",
    "for pessoa in altura_peso:\n",
    "  imc = pessoa[1]/pessoa[0] ** 2\n",
    "  if (imc < 18.5):\n",
    "     classe_imc = 'baixo'\n",
    "  elif ((imc >= 18.5) & (imc <= 24.9)):\n",
    "     classe_imc = 'normal'\n",
    "  else:\n",
    "     classe_imc = 'alto'\n",
    "\n",
    "# Acrescentando os resultados das variáveis imc e classe_imc na lista pessoa\n",
    "  pessoa.append(imc)\n",
    "  pessoa.append(classe_imc)\n",
    "  print(pessoa)    "
   ]
  }
 ],
 "metadata": {
  "colab": {
   "collapsed_sections": [],
   "name": "Mod03Ex01 - Python basico.ipynb",
   "provenance": []
  },
  "kernelspec": {
   "display_name": "Python 3 (ipykernel)",
   "language": "python",
   "name": "python3"
  },
  "language_info": {
   "codemirror_mode": {
    "name": "ipython",
    "version": 3
   },
   "file_extension": ".py",
   "mimetype": "text/x-python",
   "name": "python",
   "nbconvert_exporter": "python",
   "pygments_lexer": "ipython3",
   "version": "3.9.7"
  }
 },
 "nbformat": 4,
 "nbformat_minor": 1
}
