{
 "cells": [
  {
   "cell_type": "markdown",
   "id": "321bd7a6",
   "metadata": {},
   "source": [
    "# Módulo 23 - Tarefa 1"
   ]
  },
  {
   "cell_type": "markdown",
   "id": "c78c7aa1",
   "metadata": {},
   "source": [
    "### Bagging"
   ]
  },
  {
   "cell_type": "markdown",
   "id": "ab9eda90",
   "metadata": {},
   "source": [
    "O objetivo principal do Bagging é evitar o overfitting, que ocorre quando um modelo de machine learning se ajusta excessivamente aos dados de treinamento e apresenta desempenho inferior em novos dados. Para isso, o Bagging emprega a criação de múltiplos modelos de machine learning usando diferentes conjuntos de dados dtreinamento, e a combinação dos resultados desses modelos através da média, visando reduzir a variância geral e melhorar a capacidade de generalização. O Bagging pode ser aplicado com diferentes algoritmos de machine learning, sendo flexível em sua escolha."
   ]
  },
  {
   "cell_type": "markdown",
   "id": "e2ba3e05",
   "metadata": {},
   "source": [
    "### Passo a Passo"
   ]
  },
  {
   "cell_type": "markdown",
   "id": "64ce7d06",
   "metadata": {},
   "source": [
    "#### Bootstrap\n",
    "Sendo uma base de treino $D$ com tamanho $n$, realizar o bootstrap (amostragem com reposição) é gerarmos $m$ novas bases de treino $Di$, cada uma com tamanho $k$. $Di$ é gerado a partir de amostragens da base $D$, uniformemente, aleatóriamente e com reposição."
   ]
  },
  {
   "cell_type": "markdown",
   "id": "ccceceb7",
   "metadata": {},
   "source": [
    "#### Modelagem\n",
    "\n",
    "Depois de criadas as bases de treino $Di$ aplicamos o método de modelagem que desejamos a cada uma das $m$ bases de treino $Di$."
   ]
  },
  {
   "cell_type": "markdown",
   "id": "ce8608fa",
   "metadata": {},
   "source": [
    "#### Aggregating\n",
    "\n",
    "Depois de ajustarmos $m$ modelos utilizando as $m$ amostras do bootstrap, combinamos os resultados por sua média (para modelos de regressão) ou por votação (para modelos de classificação)."
   ]
  },
  {
   "cell_type": "markdown",
   "id": "f6d85b0c",
   "metadata": {},
   "source": [
    "### Código bagging"
   ]
  },
  {
   "cell_type": "code",
   "execution_count": 1,
   "id": "7947986f",
   "metadata": {},
   "outputs": [],
   "source": [
    "# Imports\n",
    "import pandas as pd\n",
    "import numpy as np"
   ]
  },
  {
   "cell_type": "code",
   "execution_count": 2,
   "id": "57081053",
   "metadata": {},
   "outputs": [],
   "source": [
    "class Model:\n",
    "    \n",
    "    #Ajusta o modelo correspondente\n",
    "    def fit(self, df: pd.DataFrame):\n",
    "        return self\n",
    "    \n",
    "    #Retorna previsão do modelo correspondente\n",
    "    def predict(self, X: pd.DataFrame) -> pd.Series:\n",
    "        pass"
   ]
  },
  {
   "cell_type": "code",
   "execution_count": 3,
   "id": "7501f067",
   "metadata": {},
   "outputs": [],
   "source": [
    "def bootstrap(data_frame: pd.DataFrame, n_models: int) -> list[pd.DataFrame]:\n",
    "    return [data_frame.sample(frac=1.0, replace=True) for i in range(n_models)]"
   ]
  },
  {
   "cell_type": "code",
   "execution_count": 4,
   "id": "b0d49b88",
   "metadata": {},
   "outputs": [],
   "source": [
    "def modeling(samples: list[pd.DataFrame], models: list[Model]) -> list[Model]:\n",
    "    return [model.fit(sample) for (sample, model) in zip(samples, models)]"
   ]
  },
  {
   "cell_type": "code",
   "execution_count": 5,
   "id": "a0094e4d",
   "metadata": {},
   "outputs": [],
   "source": [
    "def aggregate(models: list[Model], X: pd.DataFrame) -> pd.Series:\n",
    "    predictions = [model.predict(X) for model in models]\n",
    "    pred_len = len(predictions[0])\n",
    "    final_pred = pd.Series( np.zeros(pred_len) )\n",
    "    for pred in predictions:\n",
    "        final_pred += pred\n",
    "    final_pred /= len(predictions)"
   ]
  }
 ],
 "metadata": {
  "kernelspec": {
   "display_name": "Python 3 (ipykernel)",
   "language": "python",
   "name": "python3"
  },
  "language_info": {
   "codemirror_mode": {
    "name": "ipython",
    "version": 3
   },
   "file_extension": ".py",
   "mimetype": "text/x-python",
   "name": "python",
   "nbconvert_exporter": "python",
   "pygments_lexer": "ipython3",
   "version": "3.9.13"
  }
 },
 "nbformat": 4,
 "nbformat_minor": 5
}
